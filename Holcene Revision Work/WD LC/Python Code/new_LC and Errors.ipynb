{
 "cells": [
  {
   "cell_type": "code",
   "execution_count": 22,
   "id": "c2992b22",
   "metadata": {},
   "outputs": [],
   "source": [
    "import numpy as np\n",
    "import matplotlib.pyplot as plt\n",
    "import pandas as pd\n",
    "import os\n",
    "os.chdir(\"/Users/quinnmackay/Documents/GitHub/BICC/Holcene Revision/\")"
   ]
  },
  {
   "cell_type": "code",
   "execution_count": 23,
   "id": "c9364bc7",
   "metadata": {},
   "outputs": [
    {
     "name": "stdout",
     "output_type": "stream",
     "text": [
      "12057\n"
     ]
    }
   ],
   "source": [
    "### Loading all data\n",
    "\n",
    "layer_file = pd.read_excel('New_layers.xlsx', usecols=[7,8])\n",
    "\n",
    "new_layers = []\n",
    "remove_layers = []\n",
    "for i in range(len(layer_file[\"New_layer(m)\"])): #cycle through new layers and put them in a list\n",
    "    if pd.isna(layer_file[\"New_layer(m)\"][i]): #drop NAs\n",
    "        continue\n",
    "    elif type(layer_file[\"New_layer(m)\"][i]) == str: #split if string\n",
    "        tempvals = layer_file[\"New_layer(m)\"][i].split(\"-\")\n",
    "        for i, val in enumerate(tempvals): \n",
    "            new_layers.append(float(val))\n",
    "    else: #append if float\n",
    "        new_layers.append(layer_file[\"New_layer(m)\"][i])\n",
    "\n",
    "for i in range(len(layer_file[\"Remove_layer(yr)\"])): #cycle through remove layers and put them in a list\n",
    "    if pd.isna(layer_file[\"Remove_layer(yr)\"][i]): #drop NAs\n",
    "        continue\n",
    "    elif type(layer_file[\"Remove_layer(yr)\"][i]) == str: #split if string\n",
    "        tempvals = layer_file[\"Remove_layer(yr)\"][i].split(\"-\")\n",
    "        for i, val in enumerate(tempvals): \n",
    "            remove_layers.append(float(val))\n",
    "    else: #append if float\n",
    "        remove_layers.append(layer_file[\"Remove_layer(yr)\"][i])\n",
    "\n",
    "#load WD\n",
    "WD_layer_count = pd.read_csv('WD2014 Layer Count.tab', comment=\"#\", delimiter=\"\\t\", \n",
    "    names=[\"Depth ice/snow [m]\",\t\"Cal age [ka BP] (ice age)\", \"Cal age std e [±] \"\n",
    "    \"(ice age uncertainty due to an...)\",\t\"Cal age std e [±] (ice age uncertainty due to CH...)\",\t\n",
    "    \"Gas age [ka BP] (gas age)\",\t\"Age e [±] (gas age uncertainty (2 sigma))\",\t\n",
    "    \"Age diff [ka] (gas age-ice age difference (d...)\",\t\"Age diff e [±] (delta age uncertainty (2 sigma))\"])\n",
    "\n",
    "WD_layer_count[\"Cal age [ka BP] (ice age)\"] = WD_layer_count[\"Cal age [ka BP] (ice age)\"] * 1000\n",
    "\n",
    "WD_layer_count = WD_layer_count[WD_layer_count[\"Cal age [ka BP] (ice age)\"]<=12000] #convert to holocene\n",
    "print(len(WD_layer_count))\n",
    "\n",
    "WDData = {\n",
    "    'Depth(m)': WD_layer_count[\"Depth ice/snow [m]\"],\n",
    "    'Age(yr)': WD_layer_count[\"Cal age [ka BP] (ice age)\"]\n",
    "}\n",
    "New_WDcount = pd.DataFrame(WDData)\n"
   ]
  },
  {
   "cell_type": "code",
   "execution_count": 24,
   "id": "210825b8",
   "metadata": {},
   "outputs": [
    {
     "name": "stdout",
     "output_type": "stream",
     "text": [
      "10.0%\n",
      "20.0%\n",
      "30.0%\n",
      "40.0%\n",
      "50.0%\n",
      "60.0%\n",
      "70.0%\n",
      "80.0%\n",
      "90.0%\n",
      "100.0%\n"
     ]
    }
   ],
   "source": [
    "#removing layers and adjusting count\n",
    "\n",
    "New_WDcount = New_WDcount[~New_WDcount[\"Age(yr)\"].isin(remove_layers)] #removes layers from layer count that aren't included\n",
    "\n",
    "progress_count = 0 #init prog counter\n",
    "for i in range(len(New_WDcount[\"Age(yr)\"]) - 1): #can't run last one since there can't be a gap after the last\n",
    "    current = New_WDcount[\"Age(yr)\"].iloc[i]\n",
    "    next = New_WDcount[\"Age(yr)\"].iloc[i+1]\n",
    "\n",
    "    diff = next - current\n",
    "\n",
    "    if abs(diff - 1) > 0.01:\n",
    "        u = 0\n",
    "        u += i+1 #using u to set the index to subtract 1 from (AKA: next)\n",
    "        for s in range(len(New_WDcount[\"Age(yr)\"][i+1:])): #this should loop for every number above the current (same as the len() in parent loop)\n",
    "            New_WDcount.iloc[u, New_WDcount.columns.get_loc(\"Age(yr)\")] -= 1 #subtracts 1 for every value above the current one that has the gap\n",
    "            u+=1\n",
    "    progress_count+=1 #for percentage bar\n",
    "\n",
    "    perc_complete = (progress_count)/(len(New_WDcount[\"Age(yr)\"])-1)\n",
    "\n",
    "    if progress_count % (np.round(((len(New_WDcount[\"Age(yr)\"]) - 1)/10),0)) == 0: #sets to show every 10 percent\n",
    "        print(f\"{np.round(perc_complete*100,0)}%\")\n",
    "\n",
    "#I think this all works now...should run code by someone to make sure"
   ]
  },
  {
   "cell_type": "code",
   "execution_count": 25,
   "id": "a3c61961",
   "metadata": {},
   "outputs": [],
   "source": [
    "#adding new layers \n",
    "\n",
    "i=0\n",
    "init_newWD_length = len(New_WDcount[\"Age(yr)\"])\n",
    "while len(New_WDcount[\"Age(yr)\"]) < init_newWD_length+len(new_layers): #runs until all new layers are added\n",
    "    \n",
    "    current = New_WDcount[\"Depth(m)\"].iloc[i] #get current and next depths for checking\n",
    "    next = New_WDcount[\"Depth(m)\"].iloc[i+1]\n",
    "\n",
    "    add_depth = None\n",
    "    for depth in new_layers: #check if layer needs to be added\n",
    "        if depth > current and depth < next:\n",
    "            add_depth = depth #sets the depth for which a new layer needs to be added\n",
    "\n",
    "            new_age = New_WDcount[\"Age(yr)\"].iloc[i] + 1\n",
    "\n",
    "            new_row = {\"Depth(m)\": add_depth, \"Age(yr)\": new_age}\n",
    "            new_row_df = pd.DataFrame([new_row])  # <-- create a 1-row DataFrame\n",
    "            New_WDcount = pd.concat([New_WDcount, new_row_df], ignore_index=True)\n",
    "            break\n",
    "\n",
    "        else:\n",
    "            continue\n",
    "\n",
    "    \n",
    "    New_WDcount = New_WDcount.sort_values(by=\"Depth(m)\").reset_index(drop=True)\n",
    "    i+=1\n",
    "\n"
   ]
  },
  {
   "cell_type": "code",
   "execution_count": 26,
   "id": "1b3c0878",
   "metadata": {},
   "outputs": [
    {
     "name": "stdout",
     "output_type": "stream",
     "text": [
      "10.0%\n",
      "20.0%\n",
      "30.0%\n",
      "40.0%\n",
      "50.0%\n",
      "60.0%\n",
      "70.0%\n",
      "80.0%\n",
      "90.0%\n"
     ]
    }
   ],
   "source": [
    "#adjusting duplicate ages\n",
    "\n",
    "progress_count = 0 #init prog counter\n",
    "for i in range(len(New_WDcount[\"Age(yr)\"]) - 1): #can't run last one since there can't be a gap after the last\n",
    "    current = New_WDcount[\"Age(yr)\"].iloc[i]\n",
    "    next = New_WDcount[\"Age(yr)\"].iloc[i+1]\n",
    "\n",
    "    diff = next - current\n",
    "\n",
    "    if abs(diff) < 0.99: #if the difference is less than 1 year, then it is a duplicate\n",
    "        u = 0\n",
    "        u += i+1 #using u to set the index start the change from (AKA: next)\n",
    "        for s in range(len(New_WDcount[\"Age(yr)\"][i+1:])): #this should loop for every number above the current (same as the len() in parent loop)\n",
    "            New_WDcount.iloc[u, New_WDcount.columns.get_loc(\"Age(yr)\")] += 1 #subtracts 1 for every value above the current one that has the gap\n",
    "            u+=1\n",
    "    progress_count+=1 #for percentage bar\n",
    "\n",
    "    perc_complete = (progress_count)/(len(New_WDcount[\"Age(yr)\"])-1)\n",
    "\n",
    "    if progress_count % (np.round(((len(New_WDcount[\"Age(yr)\"]) - 1)/10),0)) == 0: #sets to show every 10 percent\n",
    "        print(f\"{np.round(perc_complete*100,0)}%\")"
   ]
  },
  {
   "cell_type": "code",
   "execution_count": 27,
   "id": "dd70730d",
   "metadata": {},
   "outputs": [],
   "source": [
    "#making names same as original\n",
    "renamed_new_WDcount = New_WDcount.rename(columns={\"Depth(m)\": \"#Depth ice/snow [m]\", \"Age(yr)\": \"Cal age [ka BP] (ice age)\"})\n",
    "\n",
    "#convert back to ka so its the same\n",
    "renamed_new_WDcount[\"Cal age [ka BP] (ice age)\"] = renamed_new_WDcount[\"Cal age [ka BP] (ice age)\"] / 1000\n",
    "\n",
    "#round to 3 decimal places #in case of small python math error\n",
    "renamed_new_WDcount[\"Cal age [ka BP] (ice age)\"] = renamed_new_WDcount[\"Cal age [ka BP] (ice age)\"].round(3) \n",
    "\n",
    "renamed_new_WDcount.to_csv('Updated_WD2014 Layer Count.tab', sep=\"\\t\", index=False, header=True) #save to tab delimited file\n"
   ]
  },
  {
   "cell_type": "code",
   "execution_count": 28,
   "id": "f5e9f6f3",
   "metadata": {},
   "outputs": [
    {
     "name": "stdout",
     "output_type": "stream",
     "text": [
      "File saved to: Modified_WDC_GICC_Compare.xlsx\n"
     ]
    }
   ],
   "source": [
    "#doing the error count (copied from GICC21-WDC_Modified Errors.py)\n",
    "\n",
    "import pandas as pd\n",
    "import numpy as np\n",
    "import os\n",
    "import re\n",
    "\n",
    "#set data paths\n",
    "os.chdir(\"/Users/quinnmackay/Documents/GitHub/BICC/Holcene Revision\")\n",
    "links_path = \"GRIP_WDC_TephraLinks.xlsx\"\n",
    "WD2014_path = \"Updated_WD2014 Layer Count.tab\"\n",
    "GICC_GRIP_age = \"GICC05-GICC21 Conversion.xlsx\"\n",
    "\n",
    "#import data\n",
    "links = pd.read_excel(links_path, usecols=[0,1,2,3,4,5,6,7,8], skiprows=29, names=[\"WDC(m)\", \"GRIP(m)\", \"WD2014 age (BC/AD iso)\", \"WD2014 age (yr BP)\", \"GICC05 age (yr BP)\", \"age diff\", \"GRIP dz/dt\", \"distance (yrs)\", \"type\"])\n",
    "WD2014 = pd.read_csv(WD2014_path, comment=\"#\", delimiter=\"\\t\", names=[\"Depth ice/snow [m]\", \"Cal age [ka BP] (ice age)\"])\n",
    "GICC_GRIP_age = pd.read_excel(GICC_GRIP_age, sheet_name=1, skiprows=1, names=[\"Age (b2k)\", \"dt years\", \"age (CE/BCE)\", \"EastGRIP (m)\",\t\"NEEM (m)\",\t\"NorthGRIP1 (m)\",\t\"NorthGRIP2 (m)\",\t\"NEEM-2011-S1 (m)\",\t\"GRIP (m)\",\t\"DYE-3 79 (m)\",\t\"DYE-3 4B (m)\",\t\"DYE-3 18C (m)\"])\n",
    "\n",
    "GICC_GRIP_age[\"Age (b1950)\"] = GICC_GRIP_age[\"Age (b2k)\"] - 50 #make b1950 column\n",
    "\n",
    "WDC_GICC_compare = links[[\"WDC(m)\", \"GRIP(m)\"]].copy(deep=True) #create a new dataframe for WDC and GRIP depths using stratigraphic links\n",
    "\n",
    "#get interp age for WDC depths from layer count\n",
    "interp_wdcage = np.interp(WDC_GICC_compare[\"WDC(m)\"], WD2014[\"Depth ice/snow [m]\"], WD2014[\"Cal age [ka BP] (ice age)\"]) #interpolate WDC depths to get ages\n",
    "interp_wdcage = interp_wdcage * 1000 #convert ka BP to yr BP\n",
    "\n",
    "WDC_GICC_compare[\"WD2014 age (yr BP1950)\"] = interp_wdcage #add interpolated ages to dataframe\n",
    "\n",
    "#get interp age for GRIP depths from GICC layer count\n",
    "interp_giccage = np.interp(WDC_GICC_compare[\"GRIP(m)\"], GICC_GRIP_age[\"GRIP (m)\"], GICC_GRIP_age[\"Age (b1950)\"]) #interpolate GRIP depths to get GICC ages\n",
    "WDC_GICC_compare[\"GICC age (yr BP1950)\"] = interp_giccage\n",
    "\n",
    "# Filter out rows where GICC age > 3800\n",
    "WDC_GICC_compare = WDC_GICC_compare[0:31]\n",
    "\n",
    "WDC_GICC_compare[\"difference (yr)\"] = WDC_GICC_compare[\"WD2014 age (yr BP1950)\"] - WDC_GICC_compare[\"GICC age (yr BP1950)\"] #calculate difference between ages\n",
    "\n",
    "\n",
    "# this computes the error from that given section, which is the difference between layer counts in GICC and WDC for that section\n",
    "\n",
    "section_error = np.zeros(len(WDC_GICC_compare)) #create empty list for section error\n",
    "for i in range(0, len(WDC_GICC_compare)):\n",
    "    if i == 0:\n",
    "        WDC_error = WDC_GICC_compare[\"WD2014 age (yr BP1950)\"][i] - 0 #calculate section error for each row\n",
    "        GICC_error = WDC_GICC_compare[\"GICC age (yr BP1950)\"][i] - 0 #calculate section error for each row\n",
    "    else:\n",
    "        WDC_error = WDC_GICC_compare[\"WD2014 age (yr BP1950)\"][i] - WDC_GICC_compare[\"WD2014 age (yr BP1950)\"][i-1] #calculate section error for each row\n",
    "        GICC_error = WDC_GICC_compare[\"GICC age (yr BP1950)\"][i] - WDC_GICC_compare[\"GICC age (yr BP1950)\"][i-1] #calculate section error for each row\n",
    "    section_error[i] = WDC_error - GICC_error #calculate section error for each row\n",
    "\n",
    "WDC_GICC_compare[\"section error (yr)\"] = section_error #calculate difference between ages\n",
    "\n",
    "output_path = \"Modified_WDC_GICC_Compare.xlsx\"\n",
    "WDC_GICC_compare.to_excel(output_path, index=False)\n",
    "\n",
    "print(f\"File saved to: {output_path}\")"
   ]
  }
 ],
 "metadata": {
  "kernelspec": {
   "display_name": "bicc",
   "language": "python",
   "name": "python3"
  },
  "language_info": {
   "codemirror_mode": {
    "name": "ipython",
    "version": 3
   },
   "file_extension": ".py",
   "mimetype": "text/x-python",
   "name": "python",
   "nbconvert_exporter": "python",
   "pygments_lexer": "ipython3",
   "version": "3.13.2"
  }
 },
 "nbformat": 4,
 "nbformat_minor": 5
}
