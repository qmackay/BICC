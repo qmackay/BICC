{
 "cells": [
  {
   "cell_type": "code",
   "execution_count": 13,
   "id": "955f07aa",
   "metadata": {},
   "outputs": [],
   "source": [
    "import pandas as pd\n",
    "import numpy as np\n",
    "\n",
    "interval_dir = '/Users/quinnmackay/Documents/GitHub/paleochrono/BICC2025/NGRIP/temp/ice_age_intervals.txt'\n",
    "\n",
    "intervals = pd.read_csv(interval_dir, delimiter='\\t', comment='#')"
   ]
  },
  {
   "cell_type": "code",
   "execution_count": 15,
   "id": "cdeb32b1",
   "metadata": {},
   "outputs": [
    {
     "name": "stderr",
     "output_type": "stream",
     "text": [
      "/var/folders/cd/1mh45k3j19g5g_kxkz_17xvc0000gn/T/ipykernel_9835/3051085535.py:1: FutureWarning: ChainedAssignmentError: behaviour will change in pandas 3.0!\n",
      "You are setting values through chained assignment. Currently this works in certain cases, but when using Copy-on-Write (which will become the default behaviour in pandas 3.0) this will never work to update the original DataFrame or Series, because the intermediate object on which we are setting values will behave as a copy.\n",
      "A typical example is when you are setting values in a column of a DataFrame, like:\n",
      "\n",
      "df[\"col\"][row_indexer] = value\n",
      "\n",
      "Use `df.loc[row_indexer, \"col\"] = values` instead, to perform the assignment in a single step and ensure this keeps updating the original `df`.\n",
      "\n",
      "See the caveats in the documentation: https://pandas.pydata.org/pandas-docs/stable/user_guide/indexing.html#returning-a-view-versus-a-copy\n",
      "\n",
      "  intervals['dur_unc'][intervals['dur_unc'] <= 0] = 0.01\n",
      "/var/folders/cd/1mh45k3j19g5g_kxkz_17xvc0000gn/T/ipykernel_9835/3051085535.py:1: SettingWithCopyWarning: \n",
      "A value is trying to be set on a copy of a slice from a DataFrame\n",
      "\n",
      "See the caveats in the documentation: https://pandas.pydata.org/pandas-docs/stable/user_guide/indexing.html#returning-a-view-versus-a-copy\n",
      "  intervals['dur_unc'][intervals['dur_unc'] <= 0] = 0.01\n"
     ]
    }
   ],
   "source": [
    "intervals['dur_unc'][intervals['dur_unc'] <= 0] = 0.01"
   ]
  },
  {
   "cell_type": "code",
   "execution_count": 16,
   "id": "39313f17",
   "metadata": {},
   "outputs": [],
   "source": [
    "intervals.to_csv('/Users/quinnmackay/Documents/GitHub/paleochrono/BICC2025/NGRIP/temp/intervals_fixed.txt', sep='\\t', index=False)"
   ]
  },
  {
   "cell_type": "code",
   "execution_count": 17,
   "id": "d180c09c",
   "metadata": {},
   "outputs": [
    {
     "data": {
      "text/html": [
       "<div>\n",
       "<style scoped>\n",
       "    .dataframe tbody tr th:only-of-type {\n",
       "        vertical-align: middle;\n",
       "    }\n",
       "\n",
       "    .dataframe tbody tr th {\n",
       "        vertical-align: top;\n",
       "    }\n",
       "\n",
       "    .dataframe thead th {\n",
       "        text-align: right;\n",
       "    }\n",
       "</style>\n",
       "<table border=\"1\" class=\"dataframe\">\n",
       "  <thead>\n",
       "    <tr style=\"text-align: right;\">\n",
       "      <th></th>\n",
       "      <th>depth_top</th>\n",
       "      <th>depth_bot</th>\n",
       "      <th>duration</th>\n",
       "      <th>dur_unc</th>\n",
       "    </tr>\n",
       "  </thead>\n",
       "  <tbody>\n",
       "    <tr>\n",
       "      <th>0</th>\n",
       "      <td>9.900</td>\n",
       "      <td>38.817</td>\n",
       "      <td>100</td>\n",
       "      <td>0.01</td>\n",
       "    </tr>\n",
       "    <tr>\n",
       "      <th>1</th>\n",
       "      <td>38.817</td>\n",
       "      <td>62.275</td>\n",
       "      <td>100</td>\n",
       "      <td>0.01</td>\n",
       "    </tr>\n",
       "    <tr>\n",
       "      <th>2</th>\n",
       "      <td>62.275</td>\n",
       "      <td>83.115</td>\n",
       "      <td>100</td>\n",
       "      <td>0.01</td>\n",
       "    </tr>\n",
       "    <tr>\n",
       "      <th>3</th>\n",
       "      <td>83.115</td>\n",
       "      <td>102.805</td>\n",
       "      <td>100</td>\n",
       "      <td>0.01</td>\n",
       "    </tr>\n",
       "    <tr>\n",
       "      <th>4</th>\n",
       "      <td>102.805</td>\n",
       "      <td>121.735</td>\n",
       "      <td>100</td>\n",
       "      <td>0.01</td>\n",
       "    </tr>\n",
       "    <tr>\n",
       "      <th>...</th>\n",
       "      <td>...</td>\n",
       "      <td>...</td>\n",
       "      <td>...</td>\n",
       "      <td>...</td>\n",
       "    </tr>\n",
       "    <tr>\n",
       "      <th>596</th>\n",
       "      <td>2422.613</td>\n",
       "      <td>2423.693</td>\n",
       "      <td>100</td>\n",
       "      <td>6.00</td>\n",
       "    </tr>\n",
       "    <tr>\n",
       "      <th>597</th>\n",
       "      <td>2423.693</td>\n",
       "      <td>2424.793</td>\n",
       "      <td>100</td>\n",
       "      <td>5.00</td>\n",
       "    </tr>\n",
       "    <tr>\n",
       "      <th>598</th>\n",
       "      <td>2424.793</td>\n",
       "      <td>2425.816</td>\n",
       "      <td>100</td>\n",
       "      <td>2.00</td>\n",
       "    </tr>\n",
       "    <tr>\n",
       "      <th>599</th>\n",
       "      <td>2425.816</td>\n",
       "      <td>2426.872</td>\n",
       "      <td>100</td>\n",
       "      <td>3.00</td>\n",
       "    </tr>\n",
       "    <tr>\n",
       "      <th>600</th>\n",
       "      <td>2426.872</td>\n",
       "      <td>2427.981</td>\n",
       "      <td>100</td>\n",
       "      <td>7.00</td>\n",
       "    </tr>\n",
       "  </tbody>\n",
       "</table>\n",
       "<p>601 rows × 4 columns</p>\n",
       "</div>"
      ],
      "text/plain": [
       "     depth_top  depth_bot  duration  dur_unc\n",
       "0        9.900     38.817       100     0.01\n",
       "1       38.817     62.275       100     0.01\n",
       "2       62.275     83.115       100     0.01\n",
       "3       83.115    102.805       100     0.01\n",
       "4      102.805    121.735       100     0.01\n",
       "..         ...        ...       ...      ...\n",
       "596   2422.613   2423.693       100     6.00\n",
       "597   2423.693   2424.793       100     5.00\n",
       "598   2424.793   2425.816       100     2.00\n",
       "599   2425.816   2426.872       100     3.00\n",
       "600   2426.872   2427.981       100     7.00\n",
       "\n",
       "[601 rows x 4 columns]"
      ]
     },
     "execution_count": 17,
     "metadata": {},
     "output_type": "execute_result"
    }
   ],
   "source": [
    "intervals"
   ]
  }
 ],
 "metadata": {
  "kernelspec": {
   "display_name": "bicc",
   "language": "python",
   "name": "python3"
  },
  "language_info": {
   "codemirror_mode": {
    "name": "ipython",
    "version": 3
   },
   "file_extension": ".py",
   "mimetype": "text/x-python",
   "name": "python",
   "nbconvert_exporter": "python",
   "pygments_lexer": "ipython3",
   "version": "3.13.2"
  }
 },
 "nbformat": 4,
 "nbformat_minor": 5
}
