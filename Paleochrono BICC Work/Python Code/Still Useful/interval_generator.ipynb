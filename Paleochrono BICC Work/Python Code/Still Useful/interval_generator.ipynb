{
 "cells": [
  {
   "cell_type": "code",
   "execution_count": 9,
   "id": "d6375ac8",
   "metadata": {},
   "outputs": [
    {
     "name": "stdout",
     "output_type": "stream",
     "text": [
      "          depth      age  age_unc\n",
      "0         0.360    -56.0      0.0\n",
      "1         0.767    -55.0      1.0\n",
      "2         1.156    -54.0      1.0\n",
      "3         1.701    -53.0      1.0\n",
      "4         2.162    -52.0      1.0\n",
      "...         ...      ...      ...\n",
      "12051  2006.625  11995.0     80.6\n",
      "12052  2006.756  11996.0     80.6\n",
      "12053  2006.866  11997.0     80.6\n",
      "12054  2006.942  11998.0     80.7\n",
      "12055  2007.019  11999.0     80.7\n",
      "\n",
      "[12056 rows x 3 columns]\n",
      "          depth      age  age_unc1  age_unc2\n",
      "12057  2007.085  12000.0      80.7       NaN\n",
      "12058  2007.183  12001.0      80.8       NaN\n",
      "12059  2007.281  12002.0      80.8       NaN\n",
      "12060  2007.369  12003.0      80.8       NaN\n",
      "12061  2007.434  12004.0      80.8       NaN\n",
      "...         ...      ...       ...       ...\n",
      "65530  3392.913  65473.0       NaN     542.4\n",
      "65531  3392.919  65474.0       NaN     542.5\n",
      "65532  3392.924  65475.0       NaN     542.5\n",
      "65533  3392.930  65476.0       NaN     542.6\n",
      "65534  3392.936  65477.0       NaN     542.7\n",
      "\n",
      "[53478 rows x 4 columns]\n"
     ]
    }
   ],
   "source": [
    "import pandas as pd\n",
    "import numpy as np\n",
    "import os\n",
    "\n",
    "WD_newcount = pd.read_csv('/Users/quinnmackay/Documents/GitHub/BICC/Holcene Revision Work/WD LC/Updated_WD2014 Layer Count.tab', sep='\\t', comment='#', names=['depth', 'age'])\n",
    "WD_oldcount = pd.read_csv('/Users/quinnmackay/Documents/GitHub/BICC/Data Storage/WDC/WD2014 Layer Count.tab', usecols=[0,1,2,3], comment='#', sep='\\t', names=['depth', 'age', 'age_unc1', 'age_unc2'])\n",
    "WD_oldcount['age'] = WD_oldcount['age'] - 0.001\n",
    "WD_oldcount['age'] = WD_oldcount['age'] * 1000\n",
    "WD_oldcount['age_unc1'] = WD_oldcount['age_unc1'] * 1000\n",
    "WD_oldcount['age_unc2'] = WD_oldcount['age_unc2'] * 1000\n",
    "\n",
    "WD_newcount['age_unc'] = WD_oldcount['age_unc1']\n",
    "WD_newcount['age'] = WD_newcount['age'] * 1000\n",
    "WD_oldcount = WD_oldcount[12057:]\n",
    "\n",
    "print(WD_newcount)\n",
    "print(WD_oldcount)"
   ]
  },
  {
   "cell_type": "code",
   "execution_count": 10,
   "id": "e6acedba",
   "metadata": {},
   "outputs": [],
   "source": [
    "WD_oldcount[\"sigma\"] = WD_oldcount[\"age_unc1\"].combine_first(WD_oldcount[\"age_unc2\"])"
   ]
  },
  {
   "cell_type": "code",
   "execution_count": 20,
   "id": "3e9d785c",
   "metadata": {},
   "outputs": [
    {
     "name": "stdout",
     "output_type": "stream",
     "text": [
      "          depth      age  age_unc  comment\n",
      "0         0.360    -56.0      0.1      NaN\n",
      "1         0.767    -55.0      1.0      NaN\n",
      "2         1.156    -54.0      1.0      NaN\n",
      "3         1.701    -53.0      1.0      NaN\n",
      "4         2.162    -52.0      1.0      NaN\n",
      "...         ...      ...      ...      ...\n",
      "12051  2006.625  11995.0     80.6      NaN\n",
      "12052  2006.756  11996.0     80.6      NaN\n",
      "12053  2006.866  11997.0     80.6      NaN\n",
      "12054  2006.942  11998.0     80.7      NaN\n",
      "12055  2007.019  11999.0     80.7      NaN\n",
      "\n",
      "[12056 rows x 4 columns]\n"
     ]
    }
   ],
   "source": [
    "WD_newcount.reset_index(drop=True, inplace=True)\n",
    "gicc21_new = WD_newcount[['depth', 'age', 'age_unc']]\n",
    "gicc21_new.dropna(inplace=True)\n",
    "gicc21_new['comment'] = np.nan\n",
    "\n",
    "#this is here to test for an error\n",
    "gicc21_new.loc[gicc21_new['age_unc'] <= 0, 'age_unc'] = 0.1\n",
    "\n",
    "print(gicc21_new)\n",
    "\n",
    "gicc21_new.to_csv('/Users/quinnmackay/Desktop/temp/ice_age_horizons.txt', index=False, sep=\"\\t\")"
   ]
  },
  {
   "cell_type": "code",
   "execution_count": 13,
   "id": "d4bf384c",
   "metadata": {},
   "outputs": [
    {
     "name": "stdout",
     "output_type": "stream",
     "text": [
      "Done! Saved to: /Users/quinnmackay/Desktop/temp/ice_age_intervals.txt\n"
     ]
    }
   ],
   "source": [
    "# do the calculation\n",
    "\n",
    "# Define year intervals\n",
    "min_age = WD_oldcount[\"age\"].min()\n",
    "max_age = WD_oldcount[\"age\"].max()\n",
    "intervals = np.arange(min_age, max_age, 100) #set year intervals, ignoring the end if less than 100 years\n",
    "\n",
    "depths = np.interp(intervals, WD_oldcount[\"age\"], WD_oldcount[\"depth\"])\n",
    "\n",
    "sigma_start = np.interp(intervals, WD_oldcount[\"age\"], WD_oldcount[\"sigma\"])\n",
    "sigma_end = np.interp(intervals+99, WD_oldcount[\"age\"], WD_oldcount[\"sigma\"])\n",
    "\n",
    "sigma_diff = sigma_end - sigma_start\n",
    "\n",
    "#this is here to test for an error\n",
    "for i in range(len(sigma_diff)):\n",
    "    if sigma_diff[i] <= 0:\n",
    "        sigma_diff[i] = 0.1\n",
    "\n",
    "interval_df = pd.DataFrame({\n",
    "    \"depth_top\": depths[:-1],\n",
    "    \"depth_bot\": depths[1:],\n",
    "    \"duration\": 100,\n",
    "    \"dur_unc\": sigma_diff[:-1]\n",
    "})\n",
    "\n",
    "interval_df.dropna(inplace=True)\n",
    "\n",
    "if os.name == 'nt':\n",
    "    output_file = \"E:/GitHub/BICC/Paleochrono/EDML-WDC_test/WDC/ice_age_intervals.txt\"\n",
    "elif os.name == 'posix':\n",
    "    output_file = '/Users/quinnmackay/Desktop/temp/ice_age_intervals.txt'\n",
    "\n",
    "\n",
    "interval_df.to_csv(output_file, sep=\"\\t\", index=False)\n",
    "\n",
    "print(f\"Done! Saved to: {output_file}\")"
   ]
  }
 ],
 "metadata": {
  "kernelspec": {
   "display_name": "bicc",
   "language": "python",
   "name": "python3"
  },
  "language_info": {
   "codemirror_mode": {
    "name": "ipython",
    "version": 3
   },
   "file_extension": ".py",
   "mimetype": "text/x-python",
   "name": "python",
   "nbconvert_exporter": "python",
   "pygments_lexer": "ipython3",
   "version": "3.13.2"
  }
 },
 "nbformat": 4,
 "nbformat_minor": 5
}
