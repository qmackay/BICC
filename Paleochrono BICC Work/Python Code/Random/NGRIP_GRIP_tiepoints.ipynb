{
 "cells": [
  {
   "cell_type": "code",
   "execution_count": 1,
   "id": "39591696",
   "metadata": {},
   "outputs": [],
   "source": [
    "import pandas as pd\n",
    "import numpy as np\n",
    "import matplotlib.pyplot as plt"
   ]
  },
  {
   "cell_type": "code",
   "execution_count": null,
   "id": "63123113",
   "metadata": {},
   "outputs": [],
   "source": [
    "# following the same combination convention as the NGRIP column\n",
    "# using the GICC21 tiepoints for their range, then using GICC05/other tipepoints for the rest.\n",
    "\n",
    "# gicc21 ngrip1 -> 159.628\n",
    "# gicc21 ngrip2 for rest\n",
    "# gicc05 ngrip1 from 670.280 (max tiepoint from GICC21) -> 1346.42\n",
    "# gicc05 ngrip2 for rest"
   ]
  },
  {
   "cell_type": "code",
   "execution_count": 41,
   "id": "0d3b9685",
   "metadata": {},
   "outputs": [
    {
     "name": "stderr",
     "output_type": "stream",
     "text": [
      "/var/folders/cd/1mh45k3j19g5g_kxkz_17xvc0000gn/T/ipykernel_2622/2146006182.py:30: FutureWarning: A value is trying to be set on a copy of a DataFrame or Series through chained assignment using an inplace method.\n",
      "The behavior will change in pandas 3.0. This inplace method will never work because the intermediate object on which we are setting values always behaves as a copy.\n",
      "\n",
      "For example, when doing 'df[col].method(value, inplace=True)', try using 'df.method({col: value}, inplace=True)' or df[col] = df[col].method(value) instead, to perform the operation inplace on the original object.\n",
      "\n",
      "\n",
      "  ngrip_ties['error'].where(ngrip_ties['NGRIP'] < 1000, 100, inplace=True)\n"
     ]
    }
   ],
   "source": [
    "gicc05_ties = pd.read_excel('/Users/quinnmackay/Documents/GitHub/BICC/Data Storage/Tiepoints/NGRIP1 NGRIP2 GRIP GISP2 match points.xlsx', sheet_name=1, skiprows=27, header=None, names=['No.', 'NGRIP1', 'NGRIP2', 'GRIP', 'GISP2', 'NA', 'Age', 'MCE'])\n",
    "\n",
    "gicc21_ties = pd.read_excel('/Users/quinnmackay/Documents/GitHub/BICC/Data Storage/Tiepoints/GICC21 matchpoints.xlsx', sheet_name=2, skiprows=2, header=None, usecols=[5,11,13,17], names=['MCE', 'NGRIP1', 'NGRIP2', 'GRIP'])\n",
    "\n",
    "part1 = gicc21_ties.loc[gicc21_ties['NGRIP1'] < 159.628, ['NGRIP1', 'GRIP']]\n",
    "\n",
    "part2 = gicc21_ties.loc[gicc21_ties['NGRIP2'] >= 159.628, ['NGRIP2', 'GRIP']]\n",
    "\n",
    "part1 = part1.rename(columns={'NGRIP1': 'NGRIP'})\n",
    "part2 = part2.rename(columns={'NGRIP2': 'NGRIP'})\n",
    "\n",
    "combined_ties1 = pd.concat([part1, part2], ignore_index=True)\n",
    "\n",
    "part3 = gicc05_ties.loc[(gicc05_ties['NGRIP1'] > 670.280) & (gicc05_ties['NGRIP1'] < 1346.42), ['NGRIP1', 'GRIP']]\n",
    "part4 = gicc05_ties.loc[gicc05_ties['NGRIP2'] >= 1346.42, ['NGRIP2', 'GRIP']]\n",
    "\n",
    "part3 = part3.rename(columns={'NGRIP1': 'NGRIP'})\n",
    "part4 = part4.rename(columns={'NGRIP2': 'NGRIP'})\n",
    "\n",
    "combined_ties2 = pd.concat([part3, part4], ignore_index=True)\n",
    "\n",
    "\n",
    "\n",
    "ngrip_ties = pd.concat([combined_ties1, combined_ties2], ignore_index=True).sort_values(by='NGRIP')\n",
    "\n",
    "ngrip_ties.dropna(subset=['GRIP'], inplace=True)\n",
    "ngrip_ties.isna().sum()\n",
    "\n",
    "ngrip_ties['error'] = 40\n",
    "ngrip_ties['error'].where(ngrip_ties['NGRIP'] < 1000, 100, inplace=True)\n",
    "\n",
    "ngrip_ties = ngrip_ties.rename(columns={\n",
    "    'NGRIP': 'depth1',\n",
    "    'GRIP': 'depth2',\n",
    "    'error': 'age_unc'\n",
    "})\n",
    "\n",
    "ngrip_ties.to_csv('/Users/quinnmackay/Desktop/temp/ng_ties.txt', sep='\\t', index=False)"
   ]
  }
 ],
 "metadata": {
  "kernelspec": {
   "display_name": "bicc",
   "language": "python",
   "name": "python3"
  },
  "language_info": {
   "codemirror_mode": {
    "name": "ipython",
    "version": 3
   },
   "file_extension": ".py",
   "mimetype": "text/x-python",
   "name": "python",
   "nbconvert_exporter": "python",
   "pygments_lexer": "ipython3",
   "version": "3.13.2"
  }
 },
 "nbformat": 4,
 "nbformat_minor": 5
}
