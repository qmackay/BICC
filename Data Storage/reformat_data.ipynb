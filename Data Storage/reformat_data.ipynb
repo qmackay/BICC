{
 "cells": [
  {
   "cell_type": "code",
   "execution_count": 2,
   "id": "80056395",
   "metadata": {},
   "outputs": [],
   "source": [
    "import pandas as pd\n",
    "import numpy as np\n",
    "import matplotlib.pyplot as plt"
   ]
  },
  {
   "cell_type": "code",
   "execution_count": 11,
   "id": "645d1f81",
   "metadata": {},
   "outputs": [],
   "source": [
    "df = pd.read_excel('/Users/quinnmackay/Documents/GitHub/BICC/Data Storage/Tiepoints/Svensson Links NGRIP-NEEM-GIP-GISP-EDML-EDC-WD-DJ-TALDICE.xls', sheet_name=1)\n",
    "df_trim = df[['NGRIP_depth(m)', 'WD_depth(m)']]\n",
    "df_trim = df_trim.dropna()\n",
    "df_trim.reset_index(drop=True, inplace=True)\n",
    "df_trim = df_trim[:192]\n",
    "df_trim\n",
    "\n",
    "df_trim = df_trim.rename(columns={'NGRIP_depth(m)': 'depth1', 'WD_depth(m)': 'depth2'})\n",
    "\n",
    "df_trim['age_unc'] = 40\n",
    "\n",
    "df_trim\n",
    "\n",
    "df_trim2 = df_trim[['depth1', 'depth2', 'age_unc']]\n",
    "\n",
    "df_trim2.to_csv('/Users/quinnmackay/Documents/GitHub/BICC/Paleochrono BICC Work/Paleochrono BICC Experiment/BICC2025/NGRIP-WDC/iceice_synchro_horizons.txt', index=False, sep='\\t')"
   ]
  }
 ],
 "metadata": {
  "kernelspec": {
   "display_name": "bicc",
   "language": "python",
   "name": "python3"
  },
  "language_info": {
   "codemirror_mode": {
    "name": "ipython",
    "version": 3
   },
   "file_extension": ".py",
   "mimetype": "text/x-python",
   "name": "python",
   "nbconvert_exporter": "python",
   "pygments_lexer": "ipython3",
   "version": "3.13.2"
  }
 },
 "nbformat": 4,
 "nbformat_minor": 5
}
