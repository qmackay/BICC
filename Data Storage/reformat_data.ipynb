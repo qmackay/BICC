{
 "cells": [
  {
   "cell_type": "code",
   "execution_count": 75,
   "id": "80056395",
   "metadata": {},
   "outputs": [],
   "source": [
    "import pandas as pd\n",
    "import numpy as np\n",
    "\n",
    "grip_acum = pd.read_csv('/Users/quinnmackay/Documents/GitHub/BICC/Data Storage/GRIP/GRIP_gripacum.tab', sep='\\t', comment='#', skiprows=19)\n",
    "grip_acum\n",
    "\n",
    "new_depo = grip_acum[['Depth ice/snow [m]', 'Acc rate [g/cm**2/a]']]"
   ]
  },
  {
   "cell_type": "code",
   "execution_count": null,
   "id": "bfa5a524",
   "metadata": {},
   "outputs": [
    {
     "ename": "",
     "evalue": "",
     "output_type": "error",
     "traceback": [
      "\u001b[1;31mnotebook controller is DISPOSED. \n",
      "\u001b[1;31mView Jupyter <a href='command:jupyter.viewOutput'>log</a> for further details."
     ]
    }
   ],
   "source": [
    "new_depo\n",
    "\n",
    "new_depo = new_depo.rename(columns={'Depth ice/snow [m]': 'depth', 'Acc rate [g/cm**2/a]': 'deporate'})\n",
    "\n",
    "new_depo['rel_unc'] = 0.2\n",
    "\n",
    "new_depo['comment'] = np.nan\n",
    "\n",
    "new_depo.to_csv('/Users/quinnmackay/Documents/GitHub/BICC/Paleochrono BICC Work/Paleochrono BICC Experiment/BICC2025/GRIP/deposition(unmod).txt', sep='\\t', index=False)"
   ]
  }
 ],
 "metadata": {
  "kernelspec": {
   "display_name": "bicc",
   "language": "python",
   "name": "python3"
  },
  "language_info": {
   "codemirror_mode": {
    "name": "ipython",
    "version": 3
   },
   "file_extension": ".py",
   "mimetype": "text/x-python",
   "name": "python",
   "nbconvert_exporter": "python",
   "pygments_lexer": "ipython3",
   "version": "3.13.2"
  }
 },
 "nbformat": 4,
 "nbformat_minor": 5
}
