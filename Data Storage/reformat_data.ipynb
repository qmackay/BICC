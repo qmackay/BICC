{
 "cells": [
  {
   "cell_type": "code",
   "execution_count": 2,
   "id": "80056395",
   "metadata": {},
   "outputs": [],
   "source": [
    "import pandas as pd\n",
    "import numpy as np\n",
    "import matplotlib.pyplot as plt"
   ]
  },
  {
   "cell_type": "code",
   "execution_count": 16,
   "id": "ffb2af14",
   "metadata": {},
   "outputs": [
    {
     "name": "stderr",
     "output_type": "stream",
     "text": [
      "/var/folders/cd/1mh45k3j19g5g_kxkz_17xvc0000gn/T/ipykernel_22042/4123920897.py:3: SettingWithCopyWarning: \n",
      "A value is trying to be set on a copy of a slice from a DataFrame\n",
      "\n",
      "See the caveats in the documentation: https://pandas.pydata.org/pandas-docs/stable/user_guide/indexing.html#returning-a-view-versus-a-copy\n",
      "  temp_output.rename(columns={'Depth (m)': 'depth', 'age (b1950)': 'age', 'MCE': 'age_unc'}, inplace=True)\n"
     ]
    }
   ],
   "source": [
    "temp = pd.read_csv('/Users/quinnmackay/Documents/GitHub/BICC/Holcene Revision Work/EDML LC/EDML-GICC Errors/EDML_LayerCount_Revised.txt', sep='\\t')\n",
    "temp_output = temp[['Depth (m)', 'age (b1950)', 'MCE']]\n",
    "temp_output.rename(columns={'Depth (m)': 'depth', 'age (b1950)': 'age', 'MCE': 'age_unc'}, inplace=True)\n",
    "\n",
    "\n",
    "temp_output['comment'] = np.nan\n",
    "\n",
    "temp_output['age_unc'] = temp_output['age_unc'] / 5\n",
    "\n",
    "temp_output.to_csv('/Users/quinnmackay/Desktop/temp/horizons.txt', sep='\\t', index=False)"
   ]
  }
 ],
 "metadata": {
  "kernelspec": {
   "display_name": "bicc",
   "language": "python",
   "name": "python3"
  },
  "language_info": {
   "codemirror_mode": {
    "name": "ipython",
    "version": 3
   },
   "file_extension": ".py",
   "mimetype": "text/x-python",
   "name": "python",
   "nbconvert_exporter": "python",
   "pygments_lexer": "ipython3",
   "version": "3.13.2"
  }
 },
 "nbformat": 4,
 "nbformat_minor": 5
}
