{
 "cells": [
  {
   "cell_type": "code",
   "execution_count": 21,
   "id": "bc4a8084",
   "metadata": {},
   "outputs": [],
   "source": [
    "import pandas as pd\n",
    "import numpy as np\n",
    "import matplotlib.pyplot as plt\n"
   ]
  },
  {
   "cell_type": "code",
   "execution_count": 22,
   "id": "2f75c77a",
   "metadata": {},
   "outputs": [],
   "source": [
    "grip_ngrip_gisp_ties = pd.read_excel('/Users/quinnmackay/Documents/GitHub/BICC/Data Storage/Tiepoints/NGRIP1 NGRIP2 GRIP GISP2 match points.xlsx', sheet_name=1, usecols=[1,2,3,4], skiprows=27, names=['ngrip1', 'ngrip2', 'grip', 'gisp2'])"
   ]
  },
  {
   "cell_type": "code",
   "execution_count": 23,
   "id": "97572874",
   "metadata": {},
   "outputs": [],
   "source": [
    "grip_gisp2 = grip_ngrip_gisp_ties[['grip', 'gisp2']].reset_index(drop=True)\n",
    "grip_gisp2.dropna(inplace=True)\n",
    "grip_gisp2.rename(columns={'grip': 'depth1', 'gisp2': 'depth2'}, inplace=True)\n",
    "grip_gisp2['age_unc'] = 5\n",
    "grip_gisp2['comment'] = np.nan\n",
    "\n",
    "grip_gisp2.to_csv('/Users/quinnmackay/Desktop/temp/grip_gisp2.txt', sep='\\t', index=False)\n",
    "\n"
   ]
  },
  {
   "cell_type": "code",
   "execution_count": 26,
   "id": "d1baf0cb",
   "metadata": {},
   "outputs": [],
   "source": [
    "# your dataframe\n",
    "ngrip_gisp2 = grip_ngrip_gisp_ties[['ngrip1', 'ngrip2', 'gisp2']].reset_index(drop=True)\n",
    "\n",
    "# switch point\n",
    "switch_depth = 1347.427\n",
    "\n",
    "# create combined column\n",
    "ngrip_gisp2['ngrip_combined'] = np.where(\n",
    "    ngrip_gisp2['gisp2'] <= switch_depth,\n",
    "    ngrip_gisp2['ngrip1'],\n",
    "    ngrip_gisp2['ngrip2']\n",
    ")\n",
    "\n",
    "ngrip_gisp2.rename(columns={'gisp2': 'depth2', 'ngrip_combined': 'depth1'}, inplace=True)\n",
    "ngrip_gisp2_export = ngrip_gisp2[['depth1', 'depth2']].copy(deep=True)\n",
    "ngrip_gisp2_export['age_unc'] = 20\n",
    "ngrip_gisp2_export['comment'] = np.nan\n",
    "\n",
    "ngrip_gisp2_export.dropna(subset=['depth1', 'depth2'], inplace=True)\n",
    "\n",
    "ngrip_gisp2_export.to_csv('/Users/quinnmackay/Desktop/temp/ngrip_gisp2.txt', sep='\\t', index=False)"
   ]
  },
  {
   "cell_type": "code",
   "execution_count": 33,
   "id": "71e13bd9",
   "metadata": {},
   "outputs": [],
   "source": [
    "#now lets do WD-GISP2\n",
    "\n",
    "wd_gisp2 = pd.read_excel('/Users/quinnmackay/Documents/GitHub/BICC/Data Storage/Tiepoints/WD-GISP2 Volcanic.xlsx', \n",
    "                         sheet_name=1, usecols=[9,10], names=['wd', 'gisp2'], skiprows=2)\n",
    "\n",
    "wd_gisp2.dropna(inplace=True)\n",
    "wd_gisp2.rename(columns={'gisp2': 'depth2', 'wd': 'depth1'}, inplace=True)\n",
    "wd_gisp2_export = wd_gisp2[['depth1', 'depth2']].copy(deep=True)\n",
    "wd_gisp2_export['age_unc'] = 10\n",
    "wd_gisp2_export['comment'] = np.nan\n",
    "\n",
    "\n",
    "wd_gisp2_export.to_csv('/Users/quinnmackay/Desktop/temp/wd_gisp2.txt', sep='\\t', index=False)"
   ]
  }
 ],
 "metadata": {
  "kernelspec": {
   "display_name": "bicc",
   "language": "python",
   "name": "python3"
  },
  "language_info": {
   "codemirror_mode": {
    "name": "ipython",
    "version": 3
   },
   "file_extension": ".py",
   "mimetype": "text/x-python",
   "name": "python",
   "nbconvert_exporter": "python",
   "pygments_lexer": "ipython3",
   "version": "3.13.2"
  }
 },
 "nbformat": 4,
 "nbformat_minor": 5
}
